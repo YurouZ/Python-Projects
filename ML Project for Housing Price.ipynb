{
 "cells": [
  {
   "cell_type": "markdown",
   "metadata": {},
   "source": [
    "# MGTF495 Data science for Python\n",
    "     Sili Wei A53277099\n",
    "     Yurou Zhao A53274346 \n",
    "     Caizhang Yu A53289188\n",
    "     Meng Lei A53290546\n",
    "     Zhicheng Ma A53273737\n",
    "     Everyone's nickname on Kaggle is the same as our real name\n",
    "### Final RMSE  20850.249"
   ]
  },
  {
   "cell_type": "code",
   "execution_count": 20,
   "metadata": {},
   "outputs": [],
   "source": [
    "import pandas as pd\n",
    "import numpy as np\n",
    "import matplotlib.pyplot as mp\n",
    "from sklearn.linear_model import (LinearRegression, Ridge, Lasso, RandomizedLasso)\n",
    "from sklearn.model_selection import train_test_split"
   ]
  },
  {
   "cell_type": "markdown",
   "metadata": {},
   "source": [
    "## Data Cleaning Part"
   ]
  },
  {
   "cell_type": "markdown",
   "metadata": {},
   "source": [
    "### 1. We import the data first as the following steps:"
   ]
  },
  {
   "cell_type": "code",
   "execution_count": 2,
   "metadata": {},
   "outputs": [
    {
     "name": "stderr",
     "output_type": "stream",
     "text": [
      "/Users/wesley/anaconda3/lib/python3.6/site-packages/pandas/core/frame.py:6201: FutureWarning: Sorting because non-concatenation axis is not aligned. A future version\n",
      "of pandas will change to not sort by default.\n",
      "\n",
      "To accept the future behavior, pass 'sort=True'.\n",
      "\n",
      "To retain the current behavior and silence the warning, pass sort=False\n",
      "\n",
      "  sort=sort)\n"
     ]
    }
   ],
   "source": [
    "data = pd.read_csv('train.csv')\n",
    "X_test_raw = pd.read_csv('test.csv')\n",
    "X_train_raw = data.iloc[:,0:79] \n",
    "y_train_raw = data.iloc[:,80]\n",
    "X_combined_raw = X_train_raw.append(X_test_raw)"
   ]
  },
  {
   "cell_type": "code",
   "execution_count": 3,
   "metadata": {},
   "outputs": [],
   "source": [
    "X_combined_raw.drop('ID', axis = 1, inplace = True)"
   ]
  },
  {
   "cell_type": "markdown",
   "metadata": {},
   "source": [
    "### 2. After importing the data, we should clean it ( at this time, we cleaned the test data and training data together. After cleaning finished, then we split the total dataset into their original division). \n",
    "### Firstly, we try to clean the columns with too many missing values. The threshold was set to that if the missing value percentage is larger than the size percentage of test sample to total sample(test+train). This could prevent the fact that some features exist in the training set but not in the test set. Besides, the test sample is smaller, so it could also prevent the fact that the features existed in the test sample but not in the training set. After checking, we decided to delete the following columns (features)."
   ]
  },
  {
   "cell_type": "code",
   "execution_count": 4,
   "metadata": {},
   "outputs": [
    {
     "name": "stdout",
     "output_type": "stream",
     "text": [
      "The column to be deleted is 1stFloorArea 0.7\n",
      "The column to be deleted is FenceQuality 0.8047781569965871\n",
      "The column to be deleted is FireplaceQuality 0.4853242320819113\n",
      "The column to be deleted is Misc Feature 0.9638225255972697\n",
      "The column to be deleted is PoolQuality 0.9955631399317406\n",
      "The column to be deleted is TypeOfAlleyAccess 0.9324232081911262\n"
     ]
    }
   ],
   "source": [
    "column_dropped = []\n",
    "for i in range(0,X_combined_raw.shape[1]):\n",
    "    if (X_combined_raw .iloc[:,i].isna().sum()/X_combined_raw.shape[0])>=X_test_raw.shape[0]/(X_test_raw.shape[0]+X_train_raw.shape[0]):\n",
    "        column_dropped.append(X_combined_raw.columns[i])\n",
    "        print('The column to be deleted is '+ X_combined_raw.columns[i] + ' '+str(X_combined_raw.iloc[:,i].isna().sum()/X_combined_raw.shape[0]))\n",
    "                        \n",
    "X_combined_train_colcleaned= X_combined_raw.drop(column_dropped,axis =1)\n"
   ]
  },
  {
   "cell_type": "markdown",
   "metadata": {},
   "source": [
    "### Then we decided to check the rows to be deleted, if there are still too many missing values in each row, we should also delete them. But luckily, there is no row to be deleted."
   ]
  },
  {
   "cell_type": "code",
   "execution_count": 5,
   "metadata": {},
   "outputs": [],
   "source": [
    "row_to_be_deleted = []\n",
    "for k in range(0,X_combined_train_colcleaned.shape[0]):\n",
    "    if X_combined_train_colcleaned.iloc[i].isna().sum()>5:\n",
    "        print('Row ' + str(i) + 'is to be deleted')\n",
    "        row_to_be_deleted.append(i)"
   ]
  },
  {
   "cell_type": "code",
   "execution_count": 6,
   "metadata": {},
   "outputs": [],
   "source": [
    "# No rows needed to be deleted"
   ]
  },
  {
   "cell_type": "code",
   "execution_count": null,
   "metadata": {},
   "outputs": [],
   "source": []
  },
  {
   "cell_type": "markdown",
   "metadata": {},
   "source": [
    "### 3. Now, for the rest remaining uncleaned features, we should clean them. First we check out the missing value NaN in which column."
   ]
  },
  {
   "cell_type": "code",
   "execution_count": 7,
   "metadata": {},
   "outputs": [
    {
     "data": {
      "text/plain": [
       "2ndFloorArea              0\n",
       "Bedrooms                  0\n",
       "BsmtCondition            80\n",
       "BsmtExposure             83\n",
       "BsmtFinish1Area           1\n",
       "BsmtFinish2Area           1\n",
       "BsmtFinishType1          80\n",
       "BsmtFinishType2          81\n",
       "BsmtFullBaths             2\n",
       "BsmtHalfBaths             2\n",
       "BsmtHeight               80\n",
       "BsmtUnfinishedArea        1\n",
       "BuildingClass             0\n",
       "Central Air               0\n",
       "Electrical                1\n",
       "EnclosedPorchArea         0\n",
       "Exterior1                 0\n",
       "Exterior2                 0\n",
       "ExteriorCond              0\n",
       "ExteriorQual              0\n",
       "Fireplaces                0\n",
       "Flatness                  0\n",
       "Foundation                0\n",
       "FullBaths                 0\n",
       "Functional                0\n",
       "GarageArea                1\n",
       "GarageCars                1\n",
       "GarageCondition         159\n",
       "GarageFinish            159\n",
       "GarageQuality           159\n",
       "                       ... \n",
       "LowQualityFinishArea      0\n",
       "MasVnrArea               23\n",
       "MasVnrType               23\n",
       "Misc                      0\n",
       "MonthSold                 0\n",
       "Neighborhood              0\n",
       "OpenPorchArea             0\n",
       "OverallRating             0\n",
       "Paved Drive               0\n",
       "PoolSize                  0\n",
       "ProximityToMainRoad       0\n",
       "ProximityToMainRoad2      0\n",
       "Quality                   0\n",
       "RoofMaterial              0\n",
       "RoofType                  0\n",
       "SaleCondition             0\n",
       "SaleType                  0\n",
       "ScreenPorchArea           0\n",
       "SeasonPorchArea           0\n",
       "Shape                     0\n",
       "SlopeOfProperty           0\n",
       "TotalBsmtArea             1\n",
       "TotalRooms                0\n",
       "TypeOfRoadAccess          0\n",
       "UtilitiesAvailable        0\n",
       "WoodDeckArea              0\n",
       "YearBuilt                 0\n",
       "YearRemodelled            0\n",
       "YearSold                  0\n",
       "ZoningClass               0\n",
       "Length: 73, dtype: int64"
      ]
     },
     "execution_count": 7,
     "metadata": {},
     "output_type": "execute_result"
    }
   ],
   "source": [
    "X_combined_train_colcleaned.isna().sum()"
   ]
  },
  {
   "cell_type": "code",
   "execution_count": 8,
   "metadata": {},
   "outputs": [
    {
     "name": "stdout",
     "output_type": "stream",
     "text": [
      "BsmtCondition\n",
      "BsmtExposure\n",
      "BsmtFinish1Area\n",
      "BsmtFinish2Area\n",
      "BsmtFinishType1\n",
      "BsmtFinishType2\n",
      "BsmtFullBaths\n",
      "BsmtHalfBaths\n",
      "BsmtHeight\n",
      "BsmtUnfinishedArea\n",
      "Electrical\n",
      "GarageArea\n",
      "GarageCars\n",
      "GarageCondition\n",
      "GarageFinish\n",
      "GarageQuality\n",
      "GarageType\n",
      "GarageYearBuilt\n",
      "LotFrontage\n",
      "MasVnrArea\n",
      "MasVnrType\n",
      "TotalBsmtArea\n"
     ]
    }
   ],
   "source": [
    "columns_tobe_interpolated = []\n",
    "for p in range(0,len(X_combined_train_colcleaned.isna().sum())):\n",
    "     if X_combined_train_colcleaned.isna().sum()[p]>0:\n",
    "            columns_tobe_interpolated.append(X_combined_train_colcleaned.columns[p])\n",
    "            print(X_combined_train_colcleaned.columns[p])"
   ]
  },
  {
   "cell_type": "markdown",
   "metadata": {},
   "source": [
    "### After figuring out which column need to be deleted, we should use different interpolation method, for floating type variables, we just use linear interpolation between two points. For string type variable, we interpolate them with two nearest  variables value."
   ]
  },
  {
   "cell_type": "code",
   "execution_count": 9,
   "metadata": {},
   "outputs": [
    {
     "name": "stdout",
     "output_type": "stream",
     "text": [
      "BsmtCondition\n",
      "BsmtExposure\n",
      "BsmtFinishType1\n",
      "BsmtFinishType2\n",
      "BsmtHeight\n",
      "Electrical\n",
      "GarageCondition\n",
      "GarageFinish\n",
      "GarageQuality\n",
      "GarageType\n",
      "MasVnrType\n"
     ]
    }
   ],
   "source": [
    "for l in columns_tobe_interpolated:\n",
    "    if type(X_combined_train_colcleaned[l].values[0]) == str:\n",
    "        print(l)\n",
    "        X_combined_train_colcleaned[l] =X_combined_train_colcleaned[l].interpolate(method='pad', limit=2)\n",
    "    else:\n",
    "        X_combined_train_colcleaned[l] = X_combined_train_colcleaned[l].interpolate(method='linear') # You can change the method here\n",
    "          "
   ]
  },
  {
   "cell_type": "markdown",
   "metadata": {},
   "source": [
    "### 4. Then we extend all the string variables into dummy variables by using the function get_dummites, the number of features increased from 80 to 279 because for some string variables, it includes multiple categories, for a string variable with N categories, at least we need n-1 dummy variables to represent each categories. The get_dummies function can help us finish this process easily."
   ]
  },
  {
   "cell_type": "code",
   "execution_count": 10,
   "metadata": {},
   "outputs": [],
   "source": [
    "X_combined_etd= pd.get_dummies(X_combined_train_colcleaned) # dummy variables are created now"
   ]
  },
  {
   "cell_type": "markdown",
   "metadata": {},
   "source": [
    "### Then we splict out the test data and training data."
   ]
  },
  {
   "cell_type": "code",
   "execution_count": 11,
   "metadata": {},
   "outputs": [],
   "source": [
    "X_train_etd = X_combined_etd.iloc[0:2051,:]"
   ]
  },
  {
   "cell_type": "code",
   "execution_count": 12,
   "metadata": {},
   "outputs": [],
   "source": [
    "X_test_etd = X_combined_etd.iloc[2051:,:]"
   ]
  },
  {
   "cell_type": "code",
   "execution_count": null,
   "metadata": {},
   "outputs": [],
   "source": []
  },
  {
   "cell_type": "code",
   "execution_count": 13,
   "metadata": {},
   "outputs": [],
   "source": [
    "# Data cleaning part is finished"
   ]
  },
  {
   "cell_type": "markdown",
   "metadata": {},
   "source": [
    "### For training data, in order to find the best tuning parameter in our model, we divide it into new training data and validation set."
   ]
  },
  {
   "cell_type": "code",
   "execution_count": 14,
   "metadata": {},
   "outputs": [],
   "source": [
    "from sklearn.model_selection import train_test_split"
   ]
  },
  {
   "cell_type": "code",
   "execution_count": 15,
   "metadata": {},
   "outputs": [],
   "source": [
    "X_train_t, X_val_t, y_train_t, y_val_t = train_test_split(X_train_etd, y_train_raw, test_size=1/4, shuffle=False)"
   ]
  },
  {
   "cell_type": "code",
   "execution_count": null,
   "metadata": {},
   "outputs": [],
   "source": []
  },
  {
   "cell_type": "markdown",
   "metadata": {},
   "source": [
    "## Model Selection and Parameter selection Part"
   ]
  },
  {
   "cell_type": "markdown",
   "metadata": {},
   "source": [
    "### In this part, we decided to try different model such as LASSO, Elastic Net, Ridge regression, etc. Aftering finding the best tuning parameter for each model individually, then we try to find the best weighted average of the prediction among the model."
   ]
  },
  {
   "cell_type": "markdown",
   "metadata": {},
   "source": [
    "### 1. First we adjust the regulization parameter for LASSO model, then we check out the RMSE on the validation set of different alpha, from the figure we can see that when alpha =0.03, it has the best performance"
   ]
  },
  {
   "cell_type": "code",
   "execution_count": 16,
   "metadata": {},
   "outputs": [],
   "source": [
    "from sklearn import linear_model"
   ]
  },
  {
   "cell_type": "code",
   "execution_count": 21,
   "metadata": {},
   "outputs": [],
   "source": [
    "def lasso_mdl(X_v,y_v,X,y,h):\n",
    "    clf_lasso = linear_model.Lasso(alpha=h, copy_X=True, fit_intercept=True, max_iter=10000,\n",
    "    normalize=False, positive=False, precompute=False, random_state=None,\n",
    "    selection='cyclic', tol=0.0001, warm_start=False)\n",
    "    clf_lasso.fit(X,y)\n",
    "    y_pred = clf_lasso.predict(X_v)\n",
    "    return (((np.sum(y_v-y_pred))**2)/y_v.shape[0])**0.5"
   ]
  },
  {
   "cell_type": "code",
   "execution_count": 22,
   "metadata": {},
   "outputs": [
    {
     "name": "stderr",
     "output_type": "stream",
     "text": [
      "/Users/wesley/anaconda3/lib/python3.6/site-packages/sklearn/linear_model/coordinate_descent.py:491: ConvergenceWarning: Objective did not converge. You might want to increase the number of iterations. Fitting data with very small alpha may cause precision problems.\n",
      "  ConvergenceWarning)\n"
     ]
    }
   ],
   "source": [
    "RMSE = []\n",
    "for h in [0.01,0.03,0.1,0.3,1]:\n",
    "    RMSE.append(lasso_mdl(X_val_t,y_val_t,X_train_t,y_train_t,h))\n",
    "    "
   ]
  },
  {
   "cell_type": "code",
   "execution_count": 23,
   "metadata": {},
   "outputs": [
    {
     "data": {
      "text/plain": [
       "Text(0,0.5,'RMSE')"
      ]
     },
     "execution_count": 23,
     "metadata": {},
     "output_type": "execute_result"
    },
    {
     "data": {
      "image/png": "[encoded data removed]",
      "text/plain": [
       "<Figure size 432x288 with 1 Axes>"
      ]
     },
     "metadata": {},
     "output_type": "display_data"
    }
   ],
   "source": [
    "mp.plot([0.01,0.03,0.1,0.3,1],RMSE)\n",
    "mp.xlabel('Penalty level')\n",
    "mp.ylabel('RMSE')"
   ]
  },
  {
   "cell_type": "code",
   "execution_count": 24,
   "metadata": {},
   "outputs": [],
   "source": [
    "# From the figure, we can see that we should choose alpha =0.03"
   ]
  },
  {
   "cell_type": "code",
   "execution_count": 25,
   "metadata": {},
   "outputs": [
    {
     "name": "stderr",
     "output_type": "stream",
     "text": [
      "/Users/wesley/anaconda3/lib/python3.6/site-packages/sklearn/linear_model/coordinate_descent.py:491: ConvergenceWarning: Objective did not converge. You might want to increase the number of iterations. Fitting data with very small alpha may cause precision problems.\n",
      "  ConvergenceWarning)\n"
     ]
    },
    {
     "data": {
      "text/plain": [
       "Lasso(alpha=0.03, copy_X=True, fit_intercept=True, max_iter=10000,\n",
       "   normalize=False, positive=False, precompute=False, random_state=None,\n",
       "   selection='cyclic', tol=0.0001, warm_start=False)"
      ]
     },
     "execution_count": 25,
     "metadata": {},
     "output_type": "execute_result"
    }
   ],
   "source": [
    "clf_lasso = linear_model.Lasso(alpha=0.03, copy_X=True, fit_intercept=True, max_iter=10000,\n",
    "   normalize=False, positive=False, precompute=False, random_state=None,\n",
    "   selection='cyclic', tol=0.0001, warm_start=False)\n",
    "clf_lasso.fit(X_train_etd ,y_train_raw)"
   ]
  },
  {
   "cell_type": "code",
   "execution_count": 26,
   "metadata": {},
   "outputs": [],
   "source": [
    "y_pred_lasso = clf_lasso.predict(X_test_etd)"
   ]
  },
  {
   "cell_type": "markdown",
   "metadata": {},
   "source": [
    "### Then we test the Elastic Net model using the similar testing process"
   ]
  },
  {
   "cell_type": "code",
   "execution_count": 27,
   "metadata": {},
   "outputs": [],
   "source": [
    "from sklearn.linear_model import ElasticNet\n",
    "from sklearn.datasets import make_regression"
   ]
  },
  {
   "cell_type": "code",
   "execution_count": 28,
   "metadata": {},
   "outputs": [],
   "source": [
    "def Eln_mdl(X_v,y_v,X,y,h):\n",
    "    clf_eln = linear_model.ElasticNet(alpha=h, copy_X=True, fit_intercept=True, l1_ratio=0.5,\n",
    "    max_iter=1000, normalize=False, positive=False, precompute=False,\n",
    "    random_state=0, selection='cyclic', tol=0.0001, warm_start=False)\n",
    "    clf_eln.fit(X,y)\n",
    "    y_pred = clf_eln.predict(X_v)\n",
    "    return (((np.sum(y_v-y_pred))**2)/y_v.shape[0])**0.5"
   ]
  },
  {
   "cell_type": "code",
   "execution_count": 32,
   "metadata": {},
   "outputs": [
    {
     "name": "stderr",
     "output_type": "stream",
     "text": [
      "/Users/wesley/anaconda3/lib/python3.6/site-packages/sklearn/linear_model/coordinate_descent.py:491: ConvergenceWarning: Objective did not converge. You might want to increase the number of iterations. Fitting data with very small alpha may cause precision problems.\n",
      "  ConvergenceWarning)\n"
     ]
    }
   ],
   "source": [
    "RMSE_eln = []\n",
    "for h in [0.01,0.03,0.1,0.3,1]:\n",
    "    RMSE_eln.append(Eln_mdl(X_val_t,y_val_t,X_train_t,y_train_t,h))"
   ]
  },
  {
   "cell_type": "code",
   "execution_count": 33,
   "metadata": {},
   "outputs": [
    {
     "data": {
      "text/plain": [
       "Text(0,0.5,'RMSE')"
      ]
     },
     "execution_count": 33,
     "metadata": {},
     "output_type": "execute_result"
    },
    {
     "data": {
      "image/png": "[encoded data removed]",
      "text/plain": [
       "<Figure size 432x288 with 1 Axes>"
      ]
     },
     "metadata": {},
     "output_type": "display_data"
    }
   ],
   "source": [
    "mp.plot([0.01,0.03,0.1,0.3,1],RMSE_eln)\n",
    "mp.xlabel('Penalty level')\n",
    "mp.ylabel('RMSE')"
   ]
  },
  {
   "cell_type": "code",
   "execution_count": 31,
   "metadata": {},
   "outputs": [],
   "source": [
    "# alpha =0.3 in the elastic net is an enbow point"
   ]
  },
  {
   "cell_type": "code",
   "execution_count": 34,
   "metadata": {},
   "outputs": [
    {
     "name": "stderr",
     "output_type": "stream",
     "text": [
      "/Users/wesley/anaconda3/lib/python3.6/site-packages/sklearn/linear_model/coordinate_descent.py:491: ConvergenceWarning: Objective did not converge. You might want to increase the number of iterations. Fitting data with very small alpha may cause precision problems.\n",
      "  ConvergenceWarning)\n"
     ]
    },
    {
     "data": {
      "text/plain": [
       "ElasticNet(alpha=0.3, copy_X=True, fit_intercept=True, l1_ratio=0.5,\n",
       "      max_iter=1000, normalize=False, positive=False, precompute=False,\n",
       "      random_state=0, selection='cyclic', tol=0.0001, warm_start=False)"
      ]
     },
     "execution_count": 34,
     "metadata": {},
     "output_type": "execute_result"
    }
   ],
   "source": [
    "clf_eln = linear_model.ElasticNet(alpha=0.3, copy_X=True, fit_intercept=True, l1_ratio=0.5,\n",
    "    max_iter=1000, normalize=False, positive=False, precompute=False,\n",
    "    random_state=0, selection='cyclic', tol=0.0001, warm_start=False)\n",
    "clf_eln.fit(X_train_etd ,y_train_raw)"
   ]
  },
  {
   "cell_type": "code",
   "execution_count": 35,
   "metadata": {},
   "outputs": [],
   "source": [
    "y_pred_eln = clf_eln.predict(X_test_etd)"
   ]
  },
  {
   "cell_type": "markdown",
   "metadata": {},
   "source": [
    "### Then we use the ridge model to predict sales price. \n",
    "\n",
    "Ridge Regression is a technique for analyzing multiple regression data that suffer from multicollinearity. When multicollinearity occurs, least squares estimates are unbiased, but their variances are large so they may be far from the true value. By adding a degree of bias to the regression estimates, ridge regression reduces the standard errors.\n",
    "\n",
    "Now take a look back again at the cost function for ridge regression.![title](image.png)\n",
    "Here if you notice, we come across an extra term, which is known as the penalty term. λ given here, is actually denoted by alpha parameter in the ridge function. So by changing the values of alpha, we are basically controlling the penalty term. Higher the values of alpha, bigger is the penalty and therefore the magnitude of coefficients are reduced.\n",
    "\n",
    "And the ridge model shrinks the parameters, therefore it is mostly used to prevent multicollinearity. It reduces the model complexity by coefficient shrinkage.\n",
    "\n",
    "Then, we used Cross validation to tune our lamda. The Cross validation(CV) tries to avoid overfitting due to the use of the same data points to fit a model and evaluate its performance CV averages over all possible combinations of estimation and evaluation samples obtainable from a given data set.\n",
    "\n"
   ]
  },
  {
   "cell_type": "markdown",
   "metadata": {},
   "source": [
    "K-Fold is a popular and easy to understand, it generally results in a less biased model compare to other methods. Because it ensures that every observation from the original dataset has the chance of appearing in training and test set. This is one among the best approach if we have a limited input data. Here we used the function: sklearn.model_selection.cross_val_score.\n",
    "\n",
    "![title](2.jpeg)"
   ]
  },
  {
   "cell_type": "code",
   "execution_count": 36,
   "metadata": {},
   "outputs": [],
   "source": [
    "import matplotlib.pyplot as plt\n",
    "import matplotlib.ticker as ticker"
   ]
  },
  {
   "cell_type": "code",
   "execution_count": 37,
   "metadata": {},
   "outputs": [
    {
     "data": {
      "image/png": "[encoded data removed]",
      "text/plain": [
       "<Figure size 432x288 with 1 Axes>"
      ]
     },
     "metadata": {},
     "output_type": "display_data"
    }
   ],
   "source": [
    "from sklearn.model_selection import cross_val_score\n",
    "# Ridge Model\n",
    "alpha_space = np.logspace(-4, 0, 50)\n",
    "ridge_scores = []\n",
    "ridge_scores_std = []\n",
    "\n",
    "# Create a ridge regressor: ridge\n",
    "ridge = Ridge(normalize=True)\n",
    "\n",
    "# Compute scores over range of alphas\n",
    "for alpha in alpha_space:\n",
    "\n",
    "    # Specify the alpha value to use: ridge.alpha\n",
    "    ridge.alpha = alpha\n",
    "    \n",
    "    # Perform 10-fold CV: ridge_cv_scores\n",
    "    ridge_cv_scores = cross_val_score(ridge, X_train_etd ,y_train_raw, cv=10)\n",
    "    \n",
    "    # Append the mean of ridge_cv_scores to ridge_scores\n",
    "    ridge_scores.append(np.mean(ridge_cv_scores))\n",
    "    ridge_scores_std.append(np.std(ridge_cv_scores))\n",
    "    \n",
    "def display_plot(cv_scores, cv_scores_std):\n",
    "    fig = plt.figure()\n",
    "    ax = fig.add_subplot(1,1,1)\n",
    "    ax.plot(alpha_space, cv_scores)\n",
    "\n",
    "    std_error = cv_scores_std / np.sqrt(10)\n",
    "\n",
    "    ax.fill_between(alpha_space, cv_scores + std_error, cv_scores - std_error, alpha=0.2)\n",
    "    ax.set_ylabel('CV Score +/- Std Error')\n",
    "    ax.set_xlabel('Alpha')\n",
    "    ax.axhline(np.max(cv_scores), linestyle='--', color='.5')\n",
    "    ax.set_xlim([alpha_space[0], alpha_space[-1]])\n",
    "    ax.set_xscale('log')\n",
    "    plt.show()\n",
    "\n",
    "# Display the plot\n",
    "display_plot(ridge_scores, ridge_scores_std)"
   ]
  },
  {
   "cell_type": "code",
   "execution_count": 38,
   "metadata": {},
   "outputs": [
    {
     "data": {
      "text/plain": [
       "0.5689866029018293"
      ]
     },
     "execution_count": 38,
     "metadata": {},
     "output_type": "execute_result"
    }
   ],
   "source": [
    "index = ridge_scores.index(max(ridge_scores))\n",
    "alpha_ridge = alpha_space[index]\n",
    "alpha_ridge"
   ]
  },
  {
   "cell_type": "markdown",
   "metadata": {},
   "source": [
    "### Therefore, after cross_validation, we choose the alpha=0.5689866029018293. Then, we use the ridge regression with the tuned alpha."
   ]
  },
  {
   "cell_type": "code",
   "execution_count": 39,
   "metadata": {},
   "outputs": [
    {
     "data": {
      "text/plain": [
       "Ridge(alpha=0.5689866029018293, copy_X=True, fit_intercept=True,\n",
       "   max_iter=10000, normalize=False, random_state=None, solver='auto',\n",
       "   tol=0.0001)"
      ]
     },
     "execution_count": 39,
     "metadata": {},
     "output_type": "execute_result"
    }
   ],
   "source": [
    "clf_ridge = Ridge(alpha=alpha_ridge, copy_X=True, fit_intercept=True, max_iter=10000,\n",
    "   normalize=False,random_state=None, tol=0.0001,solver='auto')\n",
    "clf_ridge.fit(X_train_etd ,y_train_raw)"
   ]
  },
  {
   "cell_type": "code",
   "execution_count": 40,
   "metadata": {},
   "outputs": [
    {
     "data": {
      "text/plain": [
       "0.920996611880977"
      ]
     },
     "execution_count": 40,
     "metadata": {},
     "output_type": "execute_result"
    }
   ],
   "source": [
    "y_pred_ridge = clf_ridge.predict(X_test_etd)\n",
    "Ridge_coef = clf_ridge.coef_\n",
    "score_ridge = clf_ridge.score(X_train_etd ,y_train_raw)\n",
    "score_ridge"
   ]
  },
  {
   "cell_type": "markdown",
   "metadata": {},
   "source": [
    "## PCA model\n",
    "Since from the results of feature engineering, we get more than 270 features, and comparing with the data sample, which is around 2000, too mang predictors could lead to multicollinearity. The PCA method could help with dimensionality reduction technique. In this step, we tried the PCA mathod of which the number of main components is from 1 to 200, and then use the linear regression model to predict the house price for the valication set. By evaluating the R^2 of the validation set, we obtain the number of the main components, which reaches the maximun R^2 in validation set."
   ]
  },
  {
   "cell_type": "code",
   "execution_count": 41,
   "metadata": {},
   "outputs": [],
   "source": [
    "from sklearn import datasets\n",
    "from sklearn.model_selection import train_test_split\n",
    "from sklearn.metrics import accuracy_score\n",
    "from sklearn.decomposition import PCA\n",
    "import numpy as np\n",
    "import pandas as pd\n",
    "from sklearn.linear_model import LinearRegression\n",
    "from sklearn.metrics import r2_score\n",
    "\n",
    "import matplotlib.pyplot as plt\n",
    "%matplotlib inline"
   ]
  },
  {
   "cell_type": "code",
   "execution_count": 42,
   "metadata": {},
   "outputs": [],
   "source": [
    "PcaResults = np.zeros(200)\n",
    "Comp =  np.zeros(200)\n",
    "lrModel = LinearRegression()\n",
    "for i in range(1,200):\n",
    "    pca = PCA(n_components=i)\n",
    "    data_transformed = pca.fit_transform( X_combined_etd )\n",
    "    data_transformed = pd.DataFrame(data_transformed)\n",
    "    X_train_pca = data_transformed.iloc[0:2051,:]\n",
    "    X_train, X_val, y_train, y_val = train_test_split(X_train_pca, y_train_raw, test_size=0.2, random_state = 5)\n",
    "    lrModel.fit(X_train,y_train)\n",
    "    y_pred = lrModel.predict(X_val)\n",
    "    PcaResults[i] = r2_score(y_val,y_pred)\n",
    "    Comp[i] = i"
   ]
  },
  {
   "cell_type": "code",
   "execution_count": 43,
   "metadata": {},
   "outputs": [
    {
     "data": {
      "text/plain": [
       "[<matplotlib.lines.Line2D at 0x1a1e1c7978>]"
      ]
     },
     "execution_count": 43,
     "metadata": {},
     "output_type": "execute_result"
    },
    {
     "data": {
      "image/png": "[encoded data removed]",
      "text/plain": [
       "<Figure size 432x288 with 1 Axes>"
      ]
     },
     "metadata": {},
     "output_type": "display_data"
    }
   ],
   "source": [
    "plt.figure()\n",
    "plt.plot(Comp,PcaResults)"
   ]
  },
  {
   "cell_type": "code",
   "execution_count": 44,
   "metadata": {},
   "outputs": [
    {
     "name": "stdout",
     "output_type": "stream",
     "text": [
      "The maximum R^2 is  0.8752894247349143  when the numer of the components is  178\n"
     ]
    }
   ],
   "source": [
    "print('The maximum R^2 is ', str(np.max(PcaResults)),' when the numer of the components is ', str(np.argmax(PcaResults)))"
   ]
  },
  {
   "cell_type": "code",
   "execution_count": 45,
   "metadata": {},
   "outputs": [],
   "source": [
    "pca = PCA(n_components= np.argmax(PcaResults))\n",
    "data_transformed = pca.fit_transform(X_combined_etd)\n",
    "data_transformed = pd.DataFrame(data_transformed)\n",
    "X_train_pca = data_transformed.iloc[0:2051,:]\n",
    "X_test_pca = data_transformed.iloc[2051:,:]\n",
    "lrModel.fit(X_train_pca,y_train_raw)\n",
    "y_pred_pca = lrModel.predict(X_test_pca)"
   ]
  },
  {
   "cell_type": "markdown",
   "metadata": {},
   "source": [
    "## Final prediction\n",
    "After getting the prediction from the 4 models, we just take the average of them. "
   ]
  },
  {
   "cell_type": "code",
   "execution_count": 62,
   "metadata": {},
   "outputs": [],
   "source": [
    "combined_y = 0.25*y_pred_eln+0.25*y_pred_pca+0.25*y_pred_lasso+0.25*y_pred_ridge"
   ]
  },
  {
   "cell_type": "code",
   "execution_count": 63,
   "metadata": {},
   "outputs": [],
   "source": [
    "sub = pd.DataFrame()\n",
    "sub['Id'] = X_test_raw['ID']\n",
    "sub['SalePrice'] = combined_y\n",
    "sub.to_csv('submission.csv',index=False)"
   ]
  },
  {
   "cell_type": "code",
   "execution_count": null,
   "metadata": {},
   "outputs": [],
   "source": [
    "                     \n"
   ]
  }
 ],
 "metadata": {
  "kernelspec": {
   "display_name": "Python 3",
   "language": "python",
   "name": "python3"
  },
  "language_info": {
   "codemirror_mode": {
    "name": "ipython",
    "version": 3
   },
   "file_extension": ".py",
   "mimetype": "text/x-python",
   "name": "python",
   "nbconvert_exporter": "python",
   "pygments_lexer": "ipython3",
   "version": "3.7.3"
  }
 },
 "nbformat": 4,
 "nbformat_minor": 2
}
